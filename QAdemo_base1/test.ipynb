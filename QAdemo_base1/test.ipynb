{
 "cells": [
  {
   "cell_type": "code",
   "execution_count": 18,
   "metadata": {},
   "outputs": [],
   "source": [
    "import pandas as pd\n",
    "import matplotlib as mpl\n",
    "import numpy as np\n",
    "#库作用\n",
    "from nltk.probability import FreqDist\n",
    "import time\n",
    "import json \n",
    "import codecs\n",
    "import jieba"
   ]
  },
  {
   "cell_type": "code",
   "execution_count": null,
   "metadata": {},
   "outputs": [],
   "source": []
  },
  {
   "cell_type": "code",
   "execution_count": 19,
   "metadata": {},
   "outputs": [],
   "source": [
    "#绘制信息\n",
    "def plot_words(wordList):\n",
    "    #频度统计吧\n",
    "    fDist = FreqDist(wordList)\n",
    "    #print(fDist.most_common())\n",
    "    print(\"单词总数: \",fDist.N())\n",
    "    print(\"不同单词数: \",fDist.B())\n",
    "    fDist.plot(10)"
   ]
  },
  {
   "cell_type": "code",
   "execution_count": 28,
   "metadata": {},
   "outputs": [],
   "source": [
    "# 读取语料\n",
    "def read_corpus():\n",
    "    #问题列表\n",
    "    qList = []\n",
    "    # 问题的关键词列表\n",
    "    qList_kw = []\n",
    "    #答案列表\n",
    "    aList = []\n",
    "    #语料地址\n",
    "    path = \"./data/train_pair.json\"\n",
    "    file = open(path, 'r',encoding='utf-8')\n",
    "    #全部信息\n",
    "    info = json.loads(file.read())\n",
    "    #分别处理\n",
    "    for t in info:\n",
    "        qList.append(info[t][0])\n",
    "        #这个函数的作用，含义就是分割词呗\n",
    "        qList_kw.append(cut(info[t][0]))\n",
    "        aList.append(info[t][1])\n",
    "    return qList_kw, qList, aList"
   ]
  },
  {
   "cell_type": "code",
   "execution_count": 21,
   "metadata": {},
   "outputs": [],
   "source": [
    "#语句类\n",
    "from jiebaSegment import Seg\n",
    "class Sentence(object):\n",
    "    def __init__(self, sentence, id=0):\n",
    "        self.id = id\n",
    "        self.origin_sentence = sentence #原句\n",
    "        self.cuted_sentence = self.cut()#检索式分词结果\n",
    "    \n",
    "    # 分词函数\n",
    "    def cut(self,):\n",
    "        #搜索引擎模式\n",
    "        return cut_for_search(self.origin_sentence)\n",
    "\n",
    "    # 获取分词后的词列表\n",
    "    def get_cuted_sentence(self):\n",
    "        return self.cuted_sentence\n",
    "\n",
    "    # 获取原句子\n",
    "    def get_origin_sentence(self):\n",
    "        return self.origin_sentence\n",
    "\n",
    "    # 设置该句子得分\n",
    "    def set_score(self, score):\n",
    "        self.score = score\n",
    "    "
   ]
  },
  {
   "cell_type": "code",
   "execution_count": 29,
   "metadata": {},
   "outputs": [],
   "source": [
    "#分割函数\n",
    "#检索方式的切割，含有同义表达\n",
    "def cut_for_search(stopwords,sentence):\n",
    "    # 搜索引擎模式\n",
    "    seg_list = jieba.cut_for_search(sentence)\n",
    "    results = []\n",
    "    #去掉停用词\n",
    "    for seg in seg_list:\n",
    "        if seg in stopwords:\n",
    "            continue\n",
    "        results.append(seg)\n",
    "\n",
    "    return results\n",
    "#直接分割，不含有同义表达\n",
    "def cut(stopwords,sentence,):\n",
    "    #使用jieba分割\n",
    "    seg_list = jieba.cut(sentence, cut_all=False)\n",
    "    results = []\n",
    "    #去掉停用词，构建词库\n",
    "    for seg in seg_list:\n",
    "        if seg in stopwords:\n",
    "            continue\n",
    "        results.append(seg)\n",
    "\n",
    "    return results"
   ]
  },
  {
   "cell_type": "code",
   "execution_count": 30,
   "metadata": {},
   "outputs": [],
   "source": [
    "# tfidf模型\n",
    "from collections import defaultdict\n",
    "from gensim import corpora, models, similarities\n",
    "   # 构建其他复杂模型前需要的简单模型\n",
    "def simple_model(sentences,min_frequency = 1):\n",
    "    #获取每个句子的分词\n",
    "    texts =[sentence.get_cuted_sentence() for sentence in sentences]\n",
    "\n",
    "    # 删除低频词\n",
    "    frequency = defaultdict(int)#当key不存在返回默认值\n",
    "    for text in texts:\n",
    "        for token in text:\n",
    "            frequency[token] += 1\n",
    "        #删除频度不够的词语\n",
    "    texts = [[token for token in text if frequency[token] > min_frequency] for text in texts]\n",
    "    #建立词袋/词库 词袋模型：该模型忽略掉文本的语法和语序等要素，将文本仅仅看作是若干个词汇的集合\n",
    "    #文本特征与词的顺序没有关系，\n",
    "\n",
    "    dictionary = corpora.Dictionary(texts)\n",
    "    # 将每一句话高维稀疏词频向量\n",
    "    corpus_simple = [dictionary.doc2bow(text) for text in texts]\n",
    "    return texts,dictionary,corpus_simple\n",
    "\n",
    "\n",
    "\n",
    "def TfidfModel(corpus_simple):\n",
    "    simple_model()\n",
    "    # 转换模型\n",
    "    model = models.TfidfModel(corpus_simple)\n",
    "    #转换后的语料\n",
    "    corpus = model[corpus_simple]\n",
    "    # 我们也可以通过save()和load()方法持久化这个相似度矩阵：\n",
    "    # 创建相似度矩阵\n",
    "    index = similarities.MatrixSimilarity(corpus)\n",
    "    return model,corpus,index"
   ]
  },
  {
   "cell_type": "code",
   "execution_count": 31,
   "metadata": {},
   "outputs": [
    {
     "ename": "TypeError",
     "evalue": "cut() missing 1 required positional argument: 'sentence'",
     "output_type": "error",
     "traceback": [
      "\u001b[0;31m---------------------------------------------------------------------------\u001b[0m",
      "\u001b[0;31mTypeError\u001b[0m                                 Traceback (most recent call last)",
      "\u001b[1;32m/home/ubuntu/gys/QAmodel-for-Retrievalchatbot-1/QAdemo_base1/test.ipynb Cell 8'\u001b[0m in \u001b[0;36m<cell line: 2>\u001b[0;34m()\u001b[0m\n\u001b[1;32m      <a href='vscode-notebook-cell://ssh-remote%2B101.42.109.40/home/ubuntu/gys/QAmodel-for-Retrievalchatbot-1/QAdemo_base1/test.ipynb#ch0000005vscode-remote?line=0'>1</a>\u001b[0m \u001b[39m#首先是读取语料,将问题描述和问题合并\u001b[39;00m\n\u001b[0;32m----> <a href='vscode-notebook-cell://ssh-remote%2B101.42.109.40/home/ubuntu/gys/QAmodel-for-Retrievalchatbot-1/QAdemo_base1/test.ipynb#ch0000005vscode-remote?line=1'>2</a>\u001b[0m kw,questionList,answerlist\u001b[39m=\u001b[39mread_corpus()\n",
      "\u001b[1;32m/home/ubuntu/gys/QAmodel-for-Retrievalchatbot-1/QAdemo_base1/test.ipynb Cell 4'\u001b[0m in \u001b[0;36mread_corpus\u001b[0;34m()\u001b[0m\n\u001b[1;32m     <a href='vscode-notebook-cell://ssh-remote%2B101.42.109.40/home/ubuntu/gys/QAmodel-for-Retrievalchatbot-1/QAdemo_base1/test.ipynb#ch0000004vscode-remote?line=15'>16</a>\u001b[0m     qList\u001b[39m.\u001b[39mappend(info[t][\u001b[39m0\u001b[39m])\n\u001b[1;32m     <a href='vscode-notebook-cell://ssh-remote%2B101.42.109.40/home/ubuntu/gys/QAmodel-for-Retrievalchatbot-1/QAdemo_base1/test.ipynb#ch0000004vscode-remote?line=16'>17</a>\u001b[0m     \u001b[39m#这个函数的作用，含义就是分割词呗\u001b[39;00m\n\u001b[0;32m---> <a href='vscode-notebook-cell://ssh-remote%2B101.42.109.40/home/ubuntu/gys/QAmodel-for-Retrievalchatbot-1/QAdemo_base1/test.ipynb#ch0000004vscode-remote?line=17'>18</a>\u001b[0m     qList_kw\u001b[39m.\u001b[39mappend(cut(info[t][\u001b[39m0\u001b[39;49m]))\n\u001b[1;32m     <a href='vscode-notebook-cell://ssh-remote%2B101.42.109.40/home/ubuntu/gys/QAmodel-for-Retrievalchatbot-1/QAdemo_base1/test.ipynb#ch0000004vscode-remote?line=18'>19</a>\u001b[0m     aList\u001b[39m.\u001b[39mappend(info[t][\u001b[39m1\u001b[39m])\n\u001b[1;32m     <a href='vscode-notebook-cell://ssh-remote%2B101.42.109.40/home/ubuntu/gys/QAmodel-for-Retrievalchatbot-1/QAdemo_base1/test.ipynb#ch0000004vscode-remote?line=19'>20</a>\u001b[0m \u001b[39mreturn\u001b[39;00m qList_kw, qList, aList\n",
      "\u001b[0;31mTypeError\u001b[0m: cut() missing 1 required positional argument: 'sentence'"
     ]
    }
   ],
   "source": [
    "#首先是读取语料,将问题描述和问题合并\n",
    "kw,questionList,answerlist=read_corpus()"
   ]
  },
  {
   "cell_type": "code",
   "execution_count": 25,
   "metadata": {},
   "outputs": [
    {
     "ename": "NameError",
     "evalue": "name 'questionList' is not defined",
     "output_type": "error",
     "traceback": [
      "\u001b[0;31m---------------------------------------------------------------------------\u001b[0m",
      "\u001b[0;31mNameError\u001b[0m                                 Traceback (most recent call last)",
      "\u001b[1;32m/home/ubuntu/gys/QAmodel-for-Retrievalchatbot-1/QAdemo_base1/test.ipynb Cell 9'\u001b[0m in \u001b[0;36m<cell line: 17>\u001b[0;34m()\u001b[0m\n\u001b[1;32m     <a href='vscode-notebook-cell://ssh-remote%2B101.42.109.40/home/ubuntu/gys/QAmodel-for-Retrievalchatbot-1/QAdemo_base1/test.ipynb#ch0000007vscode-remote?line=14'>15</a>\u001b[0m \u001b[39m#分割并去除去除停用词\u001b[39;00m\n\u001b[1;32m     <a href='vscode-notebook-cell://ssh-remote%2B101.42.109.40/home/ubuntu/gys/QAmodel-for-Retrievalchatbot-1/QAdemo_base1/test.ipynb#ch0000007vscode-remote?line=15'>16</a>\u001b[0m sentences \u001b[39m=\u001b[39m []\n\u001b[0;32m---> <a href='vscode-notebook-cell://ssh-remote%2B101.42.109.40/home/ubuntu/gys/QAmodel-for-Retrievalchatbot-1/QAdemo_base1/test.ipynb#ch0000007vscode-remote?line=16'>17</a>\u001b[0m \u001b[39mfor\u001b[39;00m i \u001b[39min\u001b[39;00m \u001b[39mrange\u001b[39m(\u001b[39m0\u001b[39m, \u001b[39mlen\u001b[39m(questionList)):\n\u001b[1;32m     <a href='vscode-notebook-cell://ssh-remote%2B101.42.109.40/home/ubuntu/gys/QAmodel-for-Retrievalchatbot-1/QAdemo_base1/test.ipynb#ch0000007vscode-remote?line=17'>18</a>\u001b[0m     sentences\u001b[39m.\u001b[39mappend(Sentence(questionList[i], i))\n\u001b[1;32m     <a href='vscode-notebook-cell://ssh-remote%2B101.42.109.40/home/ubuntu/gys/QAmodel-for-Retrievalchatbot-1/QAdemo_base1/test.ipynb#ch0000007vscode-remote?line=18'>19</a>\u001b[0m \u001b[39m#转换为词袋模型\u001b[39;00m\n",
      "\u001b[0;31mNameError\u001b[0m: name 'questionList' is not defined"
     ]
    }
   ],
   "source": [
    "#然后是处理语料\n",
    "#读取停用词\n",
    "stopwords=set();\n",
    "stopword_filepath = \"./stopwordList/stopword.txt\"\n",
    "file_obj = codecs.open(stopword_filepath, 'r', 'utf-8')\n",
    "while True:\n",
    "    #按行读取，感觉可以运行一次就保存好，不需要每次都读\n",
    "    line = file_obj.readline()\n",
    "    #移除头尾指定的字符\n",
    "    line=line.strip('\\r\\n')\n",
    "    if not line:\n",
    "        break\n",
    "    stopwords.add(line)\n",
    "file_obj.close()\n",
    "#分割并去除去除停用词\n",
    "sentences = []\n",
    "for i in range(0, len(questionList)):\n",
    "    sentences.append(Sentence(questionList[i], i))\n",
    "#转换为词袋模型\n",
    "texts,dictionary,corpus_simple=simple_model(sentences);\n",
    "#转换为TIDFF模型\n",
    "model,corpus,index=TfidfModel(corpus_simple);\n",
    "#计算相似度矩阵并保存"
   ]
  },
  {
   "cell_type": "code",
   "execution_count": null,
   "metadata": {},
   "outputs": [],
   "source": [
    "# 求最相似的句子\n",
    "def similarity_k(self, sentence, k):\n",
    "    sentence_vec = self.sentence2vec(sentence)\n",
    "\n",
    "    sims = self.index[sentence_vec]\n",
    "    sim_k = sorted(enumerate(sims), key=lambda item: item[1], reverse=True)[:k]\n",
    "\n",
    "    indexs = [i[0] for i in sim_k]\n",
    "    scores = [i[1] for i in sim_k]\n",
    "    return indexs, scores\n"
   ]
  },
  {
   "cell_type": "code",
   "execution_count": null,
   "metadata": {},
   "outputs": [],
   "source": [
    "# 对新输入的句子（比较的句子）进行预处理\n",
    "def sentence2vec(self, sentence):\n",
    "    sentence = Sentence(sentence, self.seg)\n",
    "    vec_bow = self.dictionary.doc2bow(sentence.get_cuted_sentence())\n",
    "    return self.model[vec_bow]"
   ]
  },
  {
   "cell_type": "code",
   "execution_count": 15,
   "metadata": {},
   "outputs": [
    {
     "ename": "TypeError",
     "evalue": "cut_for_search() missing 1 required positional argument: 'sentence'",
     "output_type": "error",
     "traceback": [
      "\u001b[0;31m---------------------------------------------------------------------------\u001b[0m",
      "\u001b[0;31mTypeError\u001b[0m                                 Traceback (most recent call last)",
      "\u001b[1;32m/home/ubuntu/gys/QAmodel-for-Retrievalchatbot-1/QAdemo_base1/test.ipynb Cell 12'\u001b[0m in \u001b[0;36m<cell line: 1>\u001b[0;34m()\u001b[0m\n\u001b[1;32m      <a href='vscode-notebook-cell://ssh-remote%2B101.42.109.40/home/ubuntu/gys/QAmodel-for-Retrievalchatbot-1/QAdemo_base1/test.ipynb#ch0000006vscode-remote?line=4'>5</a>\u001b[0m     \u001b[39mbreak\u001b[39;00m\n\u001b[1;32m      <a href='vscode-notebook-cell://ssh-remote%2B101.42.109.40/home/ubuntu/gys/QAmodel-for-Retrievalchatbot-1/QAdemo_base1/test.ipynb#ch0000006vscode-remote?line=5'>6</a>\u001b[0m \u001b[39m#分割\u001b[39;00m\n\u001b[0;32m----> <a href='vscode-notebook-cell://ssh-remote%2B101.42.109.40/home/ubuntu/gys/QAmodel-for-Retrievalchatbot-1/QAdemo_base1/test.ipynb#ch0000006vscode-remote?line=6'>7</a>\u001b[0m s_new \u001b[39m=\u001b[39m Sentence(question)\n\u001b[1;32m      <a href='vscode-notebook-cell://ssh-remote%2B101.42.109.40/home/ubuntu/gys/QAmodel-for-Retrievalchatbot-1/QAdemo_base1/test.ipynb#ch0000006vscode-remote?line=7'>8</a>\u001b[0m \u001b[39m#转化为词袋向量\u001b[39;00m\n\u001b[1;32m      <a href='vscode-notebook-cell://ssh-remote%2B101.42.109.40/home/ubuntu/gys/QAmodel-for-Retrievalchatbot-1/QAdemo_base1/test.ipynb#ch0000006vscode-remote?line=8'>9</a>\u001b[0m vec_bow_new \u001b[39m=\u001b[39m dictionary\u001b[39m.\u001b[39mdoc2bow(s_new\u001b[39m.\u001b[39mget_cuted_sentence())\n",
      "\u001b[1;32m/home/ubuntu/gys/QAmodel-for-Retrievalchatbot-1/QAdemo_base1/test.ipynb Cell 5'\u001b[0m in \u001b[0;36mSentence.__init__\u001b[0;34m(self, sentence, id)\u001b[0m\n\u001b[1;32m      <a href='vscode-notebook-cell://ssh-remote%2B101.42.109.40/home/ubuntu/gys/QAmodel-for-Retrievalchatbot-1/QAdemo_base1/test.ipynb#ch0000008vscode-remote?line=4'>5</a>\u001b[0m \u001b[39mself\u001b[39m\u001b[39m.\u001b[39mid \u001b[39m=\u001b[39m \u001b[39mid\u001b[39m\n\u001b[1;32m      <a href='vscode-notebook-cell://ssh-remote%2B101.42.109.40/home/ubuntu/gys/QAmodel-for-Retrievalchatbot-1/QAdemo_base1/test.ipynb#ch0000008vscode-remote?line=5'>6</a>\u001b[0m \u001b[39mself\u001b[39m\u001b[39m.\u001b[39morigin_sentence \u001b[39m=\u001b[39m sentence \u001b[39m#原句\u001b[39;00m\n\u001b[0;32m----> <a href='vscode-notebook-cell://ssh-remote%2B101.42.109.40/home/ubuntu/gys/QAmodel-for-Retrievalchatbot-1/QAdemo_base1/test.ipynb#ch0000008vscode-remote?line=6'>7</a>\u001b[0m \u001b[39mself\u001b[39m\u001b[39m.\u001b[39mcuted_sentence \u001b[39m=\u001b[39m \u001b[39mself\u001b[39;49m\u001b[39m.\u001b[39;49mcut()\n",
      "\u001b[1;32m/home/ubuntu/gys/QAmodel-for-Retrievalchatbot-1/QAdemo_base1/test.ipynb Cell 5'\u001b[0m in \u001b[0;36mSentence.cut\u001b[0;34m(self)\u001b[0m\n\u001b[1;32m     <a href='vscode-notebook-cell://ssh-remote%2B101.42.109.40/home/ubuntu/gys/QAmodel-for-Retrievalchatbot-1/QAdemo_base1/test.ipynb#ch0000008vscode-remote?line=9'>10</a>\u001b[0m \u001b[39mdef\u001b[39;00m \u001b[39mcut\u001b[39m(\u001b[39mself\u001b[39m,):\n\u001b[1;32m     <a href='vscode-notebook-cell://ssh-remote%2B101.42.109.40/home/ubuntu/gys/QAmodel-for-Retrievalchatbot-1/QAdemo_base1/test.ipynb#ch0000008vscode-remote?line=10'>11</a>\u001b[0m     \u001b[39m#搜索引擎模式\u001b[39;00m\n\u001b[0;32m---> <a href='vscode-notebook-cell://ssh-remote%2B101.42.109.40/home/ubuntu/gys/QAmodel-for-Retrievalchatbot-1/QAdemo_base1/test.ipynb#ch0000008vscode-remote?line=11'>12</a>\u001b[0m     \u001b[39mreturn\u001b[39;00m cut_for_search(\u001b[39mself\u001b[39;49m\u001b[39m.\u001b[39;49morigin_sentence)\n",
      "\u001b[0;31mTypeError\u001b[0m: cut_for_search() missing 1 required positional argument: 'sentence'"
     ]
    }
   ],
   "source": [
    "while True:\n",
    "#处理新输入的句子\n",
    "    question = input(\"请输入问题(q退出): \")\n",
    "    if question == 'q':\n",
    "        break\n",
    "    #分割\n",
    "    s_new = Sentence(question)\n",
    "    #转化为词袋向量\n",
    "    vec_bow_new = dictionary.doc2bow(s_new.get_cuted_sentence())\n",
    "    #转化为Tfidf向量\n",
    "    vev_tfidf=model[vec_bow_new];\n",
    "    #计算前k个最匹配的\n",
    "    sims = index[vev_tfidf]\n",
    "    sim_k = sorted(enumerate(sims), key=lambda item: item[1], reverse=True)[:k]\n",
    "    indexs = [i[0] for i in sim_k]\n",
    "    scores = [i[1] for i in sim_k]\n",
    "    #计算前k个相似\n",
    "\n",
    "    question_k = (indexs,scores)\n",
    "\n",
    "    #输出\n",
    "    print(\"亲，我们给您找到的答案是： {}\".format(answerlist[question_k[0][0]]))\n",
    "    for idx, score in zip(*question_k):\n",
    "        print(\"same questions： {},                score： {}\".format(questionList[idx], score))"
   ]
  },
  {
   "cell_type": "code",
   "execution_count": 13,
   "metadata": {},
   "outputs": [],
   "source": [
    "a=((1,2))"
   ]
  }
 ],
 "metadata": {
  "interpreter": {
   "hash": "72b3120885d5d6e0ef082e29221813acb96c3a8a07ea205338dd22b024d1bc3d"
  },
  "kernelspec": {
   "display_name": "Python 3.10.4 ('gluon')",
   "language": "python",
   "name": "python3"
  },
  "language_info": {
   "codemirror_mode": {
    "name": "ipython",
    "version": 3
   },
   "file_extension": ".py",
   "mimetype": "text/x-python",
   "name": "python",
   "nbconvert_exporter": "python",
   "pygments_lexer": "ipython3",
   "version": "3.10.4"
  },
  "orig_nbformat": 4
 },
 "nbformat": 4,
 "nbformat_minor": 2
}
